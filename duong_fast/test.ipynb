{
  "cells": [
    {
      "cell_type": "code",
      "execution_count": 46,
      "metadata": {
        "id": "z44mW7VHXbWK"
      },
      "outputs": [],
      "source": [
        "# If True, running Regen Error Values from Output JSON File\n",
        "regen_bool = False"
      ]
    },
    {
      "cell_type": "markdown",
      "metadata": {
        "id": "KpA5wf0EuUCP"
      },
      "source": [
        "# Enter\n",
        "1. time_th\n",
        "2. Multiple Gemini Keys ( >= 2)\n",
        "3. Upload enriched_movies27k.csv"
      ]
    },
    {
      "cell_type": "code",
      "execution_count": 2,
      "metadata": {
        "id": "nkMa--5CtBKl"
      },
      "outputs": [],
      "source": [
        "# time_th 1 -> 100 as gen 100 times for 100% users\n",
        "time_th = 24"
      ]
    },
    {
      "cell_type": "code",
      "execution_count": 3,
      "metadata": {
        "id": "LqeSpwGAVt54"
      },
      "outputs": [],
      "source": [
        "# generating user profile for train set\n",
        "num_top_movies = 25 # num_top_movies top movies for each user\n",
        "num_top_tags = 60 # num_top_tags top genome tags for both user and movies"
      ]
    },
    {
      "cell_type": "code",
      "execution_count": null,
      "metadata": {
        "colab": {
          "base_uri": "https://localhost:8080/"
        },
        "id": "WxPDddesAqiC",
        "outputId": "7a7ec757-29ca-439d-b506-4905e5e3ff97"
      },
      "outputs": [
        {
          "name": "stdout",
          "output_type": "stream",
          "text": [
            "Mounted at /content/drive\n"
          ]
        }
      ],
      "source": [
        "# Mount Drive for saving UserProfile directly into your drive\n",
        "#from google.colab import drive\n",
        "#drive.mount('/content/drive')"
      ]
    },
    {
      "cell_type": "code",
      "execution_count": 5,
      "metadata": {
        "id": "_yA3a3_hzxy9"
      },
      "outputs": [],
      "source": [
        "gen_users_path = \"/content/drive/MyDrive/GenUserProfile\""
      ]
    },
    {
      "cell_type": "markdown",
      "metadata": {
        "id": "qoLqwxLtERPs"
      },
      "source": [
        "**For full users, list num_top_movies top movies with profiles for LLM to analyze user preference**"
      ]
    },
    {
      "cell_type": "code",
      "execution_count": 7,
      "metadata": {
        "id": "2ZP4xd5i78JL"
      },
      "outputs": [],
      "source": [
        "import numpy as np\n",
        "import pandas as pd\n",
        "import matplotlib.pyplot as plt\n",
        "#from google import genai\n",
        "import os\n",
        "#from google.colab import files\n",
        "import zipfile\n",
        "import urllib.request\n",
        "from pathlib import Path\n",
        "import requests\n",
        "import json\n",
        "import time\n",
        "#from google.colab import userdata\n",
        "#from google.genai import types\n",
        "from tqdm import tqdm\n",
        "#from google import genai"
      ]
    },
    {
      "cell_type": "code",
      "execution_count": null,
      "metadata": {
        "colab": {
          "base_uri": "https://localhost:8080/"
        },
        "id": "_-jGUILBoq43",
        "outputId": "066cfc29-f6f0-4c90-d7f4-03edb539a2b6"
      },
      "outputs": [
        {
          "name": "stdout",
          "output_type": "stream",
          "text": [
            "rm: cannot remove 'fast-traditional-rs': No such file or directory\n",
            "Cloning into 'Duong_Fast'...\n",
            "remote: Enumerating objects: 187, done.\u001b[K\n",
            "remote: Counting objects: 100% (187/187), done.\u001b[K\n",
            "remote: Compressing objects: 100% (105/105), done.\u001b[K\n",
            "remote: Total 187 (delta 86), reused 178 (delta 78), pack-reused 0 (from 0)\u001b[K\n",
            "Receiving objects: 100% (187/187), 64.80 KiB | 884.00 KiB/s, done.\n",
            "Resolving deltas: 100% (86/86), done.\n"
          ]
        }
      ],
      "source": [
        "#!rm -r fast-traditional-rs\n",
        "#!git clone https://github.com/duong1124/Duong_Fast.git"
      ]
    },
    {
      "cell_type": "code",
      "execution_count": null,
      "metadata": {
        "id": "uIYfSOfY93Nn"
      },
      "outputs": [],
      "source": [
        "#import sys\n",
        "#sys.path.append('/content/Duong_Fast/duong_fast')"
      ]
    },
    {
      "cell_type": "markdown",
      "metadata": {
        "id": "ETCrKernp6L9"
      },
      "source": [
        "# Dataload and Preprocess"
      ]
    },
    {
      "cell_type": "code",
      "execution_count": 8,
      "metadata": {
        "id": "p7-GVlLspfpm"
      },
      "outputs": [],
      "source": [
        "from notebook_helper import LoadPreprocess20M\n",
        "\n",
        "loader = LoadPreprocess20M()"
      ]
    },
    {
      "cell_type": "code",
      "execution_count": null,
      "metadata": {
        "id": "T0HctS6Hq0XL"
      },
      "outputs": [],
      "source": [
        "df_movies, df_genome_scores, df_tags, df_genome_tags, df_ratings, df_links = loader.dataload(local = True) # for local testing"
      ]
    },
    {
      "cell_type": "code",
      "execution_count": 10,
      "metadata": {
        "id": "KKnEpCkSMbe9"
      },
      "outputs": [],
      "source": [
        "final_movies, final_genome_scores, final_ratings, tag_mapping = loader.preprocess(df_movies, df_genome_scores, df_tags, df_genome_tags, df_ratings, df_links)"
      ]
    },
    {
      "cell_type": "code",
      "execution_count": 12,
      "metadata": {
        "colab": {
          "base_uri": "https://localhost:8080/",
          "height": 597
        },
        "id": "vchi4fjgewFp",
        "outputId": "5ff22ad0-791e-4662-f5e5-a79f387448f1"
      },
      "outputs": [
        {
          "name": "stderr",
          "output_type": "stream",
          "text": [
            "<>:1: SyntaxWarning: invalid escape sequence '\\H'\n",
            "<>:1: SyntaxWarning: invalid escape sequence '\\H'\n",
            "C:\\Users\\ACER\\AppData\\Local\\Temp\\ipykernel_7684\\194046993.py:1: SyntaxWarning: invalid escape sequence '\\H'\n",
            "  movie_profile_10239_path = \"D:\\HUST\\Lab\\movie_profile_10k.csv\"\n"
          ]
        },
        {
          "data": {
            "text/html": [
              "<div>\n",
              "<style scoped>\n",
              "    .dataframe tbody tr th:only-of-type {\n",
              "        vertical-align: middle;\n",
              "    }\n",
              "\n",
              "    .dataframe tbody tr th {\n",
              "        vertical-align: top;\n",
              "    }\n",
              "\n",
              "    .dataframe thead th {\n",
              "        text-align: right;\n",
              "    }\n",
              "</style>\n",
              "<table border=\"1\" class=\"dataframe\">\n",
              "  <thead>\n",
              "    <tr style=\"text-align: right;\">\n",
              "      <th></th>\n",
              "      <th>title</th>\n",
              "      <th>genres</th>\n",
              "      <th>actors</th>\n",
              "      <th>director</th>\n",
              "      <th>description</th>\n",
              "    </tr>\n",
              "    <tr>\n",
              "      <th>movieId</th>\n",
              "      <th></th>\n",
              "      <th></th>\n",
              "      <th></th>\n",
              "      <th></th>\n",
              "      <th></th>\n",
              "    </tr>\n",
              "  </thead>\n",
              "  <tbody>\n",
              "    <tr>\n",
              "      <th>1</th>\n",
              "      <td>Toy Story (1995)</td>\n",
              "      <td>Adventure|Animation|Children|Comedy|Fantasy</td>\n",
              "      <td>Tom Hanks, Tim Allen, Don Rickles</td>\n",
              "      <td>John Lasseter</td>\n",
              "      <td>Led by Woody, Andy's toys live happily in his ...</td>\n",
              "    </tr>\n",
              "    <tr>\n",
              "      <th>2</th>\n",
              "      <td>Jumanji (1995)</td>\n",
              "      <td>Adventure|Children|Fantasy</td>\n",
              "      <td>Robin Williams, Kirsten Dunst, Bradley Pierce</td>\n",
              "      <td>Joe Johnston</td>\n",
              "      <td>When siblings Judy and Peter discover an encha...</td>\n",
              "    </tr>\n",
              "    <tr>\n",
              "      <th>3</th>\n",
              "      <td>Grumpier Old Men (1995)</td>\n",
              "      <td>Comedy|Romance</td>\n",
              "      <td>Walter Matthau, Jack Lemmon, Ann-Margret</td>\n",
              "      <td>Howard Deutch</td>\n",
              "      <td>A family wedding reignites the ancient feud be...</td>\n",
              "    </tr>\n",
              "    <tr>\n",
              "      <th>4</th>\n",
              "      <td>Waiting to Exhale (1995)</td>\n",
              "      <td>Comedy|Drama|Romance</td>\n",
              "      <td>Whitney Houston, Angela Bassett, Loretta Devine</td>\n",
              "      <td>Forest Whitaker</td>\n",
              "      <td>Cheated on, mistreated and stepped on, the wom...</td>\n",
              "    </tr>\n",
              "    <tr>\n",
              "      <th>5</th>\n",
              "      <td>Father of the Bride Part II (1995)</td>\n",
              "      <td>Comedy</td>\n",
              "      <td>Steve Martin, Diane Keaton, Martin Short</td>\n",
              "      <td>Charles Shyer</td>\n",
              "      <td>Just when George Banks has recovered from his ...</td>\n",
              "    </tr>\n",
              "    <tr>\n",
              "      <th>...</th>\n",
              "      <td>...</td>\n",
              "      <td>...</td>\n",
              "      <td>...</td>\n",
              "      <td>...</td>\n",
              "      <td>...</td>\n",
              "    </tr>\n",
              "    <tr>\n",
              "      <th>128488</th>\n",
              "      <td>Wild Card (2015)</td>\n",
              "      <td>Crime|Drama|Thriller</td>\n",
              "      <td>Jason Statham, Michael Angarano, Dominik Garcia</td>\n",
              "      <td>Simon West</td>\n",
              "      <td>When a Las Vegas bodyguard with lethal skills ...</td>\n",
              "    </tr>\n",
              "    <tr>\n",
              "      <th>129354</th>\n",
              "      <td>Focus (2015)</td>\n",
              "      <td>Comedy|Crime|Drama|Romance</td>\n",
              "      <td>Will Smith, Margot Robbie, Rodrigo Santoro</td>\n",
              "      <td>Glenn Ficarra, John Requa</td>\n",
              "      <td>Nicky, an accomplished con artist, gets romant...</td>\n",
              "    </tr>\n",
              "    <tr>\n",
              "      <th>129428</th>\n",
              "      <td>The Second Best Exotic Marigold Hotel (2015)</td>\n",
              "      <td>Comedy|Drama</td>\n",
              "      <td>Dev Patel, Judi Dench, Richard Gere</td>\n",
              "      <td>John Madden</td>\n",
              "      <td>As the Best Exotic Marigold Hotel has only a s...</td>\n",
              "    </tr>\n",
              "    <tr>\n",
              "      <th>130073</th>\n",
              "      <td>Cinderella (2015)</td>\n",
              "      <td>Adventure|Children|Drama|Sci-Fi</td>\n",
              "      <td>Lily James, Cate Blanchett, Richard Madden</td>\n",
              "      <td>Kenneth Branagh</td>\n",
              "      <td>When her father unexpectedly passes away, youn...</td>\n",
              "    </tr>\n",
              "    <tr>\n",
              "      <th>130490</th>\n",
              "      <td>Insurgent (2015)</td>\n",
              "      <td>Action|Romance|Sci-Fi</td>\n",
              "      <td>Shailene Woodley, Theo James, Miles Teller</td>\n",
              "      <td>Robert Schwentke</td>\n",
              "      <td>Beatrice Prior must confront her inner demons ...</td>\n",
              "    </tr>\n",
              "  </tbody>\n",
              "</table>\n",
              "<p>10239 rows × 5 columns</p>\n",
              "</div>"
            ],
            "text/plain": [
              "                                                title  \\\n",
              "movieId                                                 \n",
              "1                                    Toy Story (1995)   \n",
              "2                                      Jumanji (1995)   \n",
              "3                             Grumpier Old Men (1995)   \n",
              "4                            Waiting to Exhale (1995)   \n",
              "5                  Father of the Bride Part II (1995)   \n",
              "...                                               ...   \n",
              "128488                               Wild Card (2015)   \n",
              "129354                                   Focus (2015)   \n",
              "129428   The Second Best Exotic Marigold Hotel (2015)   \n",
              "130073                              Cinderella (2015)   \n",
              "130490                               Insurgent (2015)   \n",
              "\n",
              "                                              genres  \\\n",
              "movieId                                                \n",
              "1        Adventure|Animation|Children|Comedy|Fantasy   \n",
              "2                         Adventure|Children|Fantasy   \n",
              "3                                     Comedy|Romance   \n",
              "4                               Comedy|Drama|Romance   \n",
              "5                                             Comedy   \n",
              "...                                              ...   \n",
              "128488                          Crime|Drama|Thriller   \n",
              "129354                    Comedy|Crime|Drama|Romance   \n",
              "129428                                  Comedy|Drama   \n",
              "130073               Adventure|Children|Drama|Sci-Fi   \n",
              "130490                         Action|Romance|Sci-Fi   \n",
              "\n",
              "                                                  actors  \\\n",
              "movieId                                                    \n",
              "1                      Tom Hanks, Tim Allen, Don Rickles   \n",
              "2          Robin Williams, Kirsten Dunst, Bradley Pierce   \n",
              "3               Walter Matthau, Jack Lemmon, Ann-Margret   \n",
              "4        Whitney Houston, Angela Bassett, Loretta Devine   \n",
              "5               Steve Martin, Diane Keaton, Martin Short   \n",
              "...                                                  ...   \n",
              "128488   Jason Statham, Michael Angarano, Dominik Garcia   \n",
              "129354        Will Smith, Margot Robbie, Rodrigo Santoro   \n",
              "129428               Dev Patel, Judi Dench, Richard Gere   \n",
              "130073        Lily James, Cate Blanchett, Richard Madden   \n",
              "130490        Shailene Woodley, Theo James, Miles Teller   \n",
              "\n",
              "                          director  \\\n",
              "movieId                              \n",
              "1                    John Lasseter   \n",
              "2                     Joe Johnston   \n",
              "3                    Howard Deutch   \n",
              "4                  Forest Whitaker   \n",
              "5                    Charles Shyer   \n",
              "...                            ...   \n",
              "128488                  Simon West   \n",
              "129354   Glenn Ficarra, John Requa   \n",
              "129428                 John Madden   \n",
              "130073             Kenneth Branagh   \n",
              "130490            Robert Schwentke   \n",
              "\n",
              "                                               description  \n",
              "movieId                                                     \n",
              "1        Led by Woody, Andy's toys live happily in his ...  \n",
              "2        When siblings Judy and Peter discover an encha...  \n",
              "3        A family wedding reignites the ancient feud be...  \n",
              "4        Cheated on, mistreated and stepped on, the wom...  \n",
              "5        Just when George Banks has recovered from his ...  \n",
              "...                                                    ...  \n",
              "128488   When a Las Vegas bodyguard with lethal skills ...  \n",
              "129354   Nicky, an accomplished con artist, gets romant...  \n",
              "129428   As the Best Exotic Marigold Hotel has only a s...  \n",
              "130073   When her father unexpectedly passes away, youn...  \n",
              "130490   Beatrice Prior must confront her inner demons ...  \n",
              "\n",
              "[10239 rows x 5 columns]"
            ]
          },
          "execution_count": 12,
          "metadata": {},
          "output_type": "execute_result"
        }
      ],
      "source": [
        "movie_profile_10239_path = \"D:\\HUST\\Lab\\movie_profile_10k.csv\"\n",
        "\n",
        "movie_profile_10k = pd.read_csv(movie_profile_10239_path, index_col=0)\n",
        "\n",
        "movie_profile_10k"
      ]
    },
    {
      "cell_type": "markdown",
      "metadata": {
        "id": "mm4Wimi3EqGR"
      },
      "source": [
        "# Taking sample and Train-Test split"
      ]
    },
    {
      "cell_type": "code",
      "execution_count": null,
      "metadata": {
        "id": "yj-PRgtzHvDN"
      },
      "outputs": [],
      "source": [
        "from notebook_helper import SampleRatings\n",
        "\n",
        "sampler = SampleRatings(\n",
        "    final_ratings,\n",
        "    sample_percent = 1.0,\n",
        "    sample_method = 'first',\n",
        "    random_state = 42\n",
        ")"
      ]
    },
    {
      "cell_type": "code",
      "execution_count": null,
      "metadata": {
        "id": "Y8eVKBoHryQZ"
      },
      "outputs": [],
      "source": [
        "gen_file, sample_user_ids = sampler.sample_users()"
      ]
    },
    {
      "cell_type": "code",
      "execution_count": null,
      "metadata": {
        "colab": {
          "base_uri": "https://localhost:8080/"
        },
        "id": "lOGYwzlHu4-l",
        "outputId": "ba99fc0b-fcda-4973-ea1d-c36a1aea7cae"
      },
      "outputs": [
        {
          "name": "stdout",
          "output_type": "stream",
          "text": [
            "Max movies rated by one user: 6590, userId: 8405\n",
            "Min movies rated by one user: 13, userId: 65137\n"
          ]
        },
        {
          "data": {
            "text/plain": [
              "(np.int64(8405), np.int64(65137))"
            ]
          },
          "execution_count": 15,
          "metadata": {},
          "output_type": "execute_result"
        }
      ],
      "source": [
        "sampler.find_max_min_movies_rated(gen_file, sample_user_ids)"
      ]
    },
    {
      "cell_type": "code",
      "execution_count": null,
      "metadata": {
        "colab": {
          "base_uri": "https://localhost:8080/"
        },
        "id": "PT-eRM6MwNg3",
        "outputId": "37f5ed1f-f992-4412-b711-498339804b0b"
      },
      "outputs": [
        {
          "name": "stdout",
          "output_type": "stream",
          "text": [
            "Max users rated one movie: 67310, movieId: 296\n",
            "Min users rated one movie: 20, movieId: 49737\n"
          ]
        },
        {
          "data": {
            "text/plain": [
              "(np.int64(296), np.int64(49737))"
            ]
          },
          "execution_count": 16,
          "metadata": {},
          "output_type": "execute_result"
        }
      ],
      "source": [
        "sampler.find_max_min_users_rated(gen_file)"
      ]
    },
    {
      "cell_type": "code",
      "execution_count": null,
      "metadata": {
        "id": "uf4yc8l2wVZX"
      },
      "outputs": [],
      "source": [
        "rating_train, rating_test = SampleRatings.split_data_ml20m(\n",
        "    gen_file,\n",
        "    split_mode='seq-aware',\n",
        "    test_ratio=0.2,\n",
        "    random_seed=42\n",
        ")"
      ]
    },
    {
      "cell_type": "code",
      "execution_count": null,
      "metadata": {
        "colab": {
          "base_uri": "https://localhost:8080/"
        },
        "id": "p3G_1PYELZCY",
        "outputId": "2c5a3442-8abc-42a7-f025-5e2052fcfea0"
      },
      "outputs": [
        {
          "name": "stdout",
          "output_type": "stream",
          "text": [
            "Number of users in train set: 138493\n",
            "Number of users in test set: 138493\n",
            "Number of movies in train set: 10238\n",
            "Number of movies in test set: 10239\n"
          ]
        }
      ],
      "source": [
        "print(f\"Number of users in train set: {len(rating_train['userId'].unique())}\")\n",
        "print(f\"Number of users in test set: {len(rating_test['userId'].unique())}\")\n",
        "print(f\"Number of movies in train set: {len(rating_train['movieId'].unique())}\")\n",
        "print(f\"Number of movies in test set: {len(rating_test['movieId'].unique())}\")"
      ]
    },
    {
      "cell_type": "markdown",
      "metadata": {
        "id": "rmUS4VLKkN_P"
      },
      "source": [
        "# Building MovieProfile with TMDB"
      ]
    },
    {
      "cell_type": "code",
      "execution_count": 26,
      "metadata": {
        "colab": {
          "base_uri": "https://localhost:8080/",
          "height": 597
        },
        "id": "_ZQ7uubSdJRu",
        "outputId": "346ccca3-7c7c-477c-ef27-a466d8d5ba18"
      },
      "outputs": [
        {
          "data": {
            "text/html": [
              "<div>\n",
              "<style scoped>\n",
              "    .dataframe tbody tr th:only-of-type {\n",
              "        vertical-align: middle;\n",
              "    }\n",
              "\n",
              "    .dataframe tbody tr th {\n",
              "        vertical-align: top;\n",
              "    }\n",
              "\n",
              "    .dataframe thead th {\n",
              "        text-align: right;\n",
              "    }\n",
              "</style>\n",
              "<table border=\"1\" class=\"dataframe\">\n",
              "  <thead>\n",
              "    <tr style=\"text-align: right;\">\n",
              "      <th></th>\n",
              "      <th>title</th>\n",
              "      <th>genres</th>\n",
              "      <th>actors</th>\n",
              "      <th>director</th>\n",
              "      <th>description</th>\n",
              "    </tr>\n",
              "    <tr>\n",
              "      <th>movieId</th>\n",
              "      <th></th>\n",
              "      <th></th>\n",
              "      <th></th>\n",
              "      <th></th>\n",
              "      <th></th>\n",
              "    </tr>\n",
              "  </thead>\n",
              "  <tbody>\n",
              "    <tr>\n",
              "      <th>1</th>\n",
              "      <td>Toy Story (1995)</td>\n",
              "      <td>Adventure|Animation|Children|Comedy|Fantasy</td>\n",
              "      <td>Tom Hanks, Tim Allen, Don Rickles</td>\n",
              "      <td>John Lasseter</td>\n",
              "      <td>Led by Woody, Andy's toys live happily in his ...</td>\n",
              "    </tr>\n",
              "    <tr>\n",
              "      <th>2</th>\n",
              "      <td>Jumanji (1995)</td>\n",
              "      <td>Adventure|Children|Fantasy</td>\n",
              "      <td>Robin Williams, Kirsten Dunst, Bradley Pierce</td>\n",
              "      <td>Joe Johnston</td>\n",
              "      <td>When siblings Judy and Peter discover an encha...</td>\n",
              "    </tr>\n",
              "    <tr>\n",
              "      <th>3</th>\n",
              "      <td>Grumpier Old Men (1995)</td>\n",
              "      <td>Comedy|Romance</td>\n",
              "      <td>Walter Matthau, Jack Lemmon, Ann-Margret</td>\n",
              "      <td>Howard Deutch</td>\n",
              "      <td>A family wedding reignites the ancient feud be...</td>\n",
              "    </tr>\n",
              "    <tr>\n",
              "      <th>4</th>\n",
              "      <td>Waiting to Exhale (1995)</td>\n",
              "      <td>Comedy|Drama|Romance</td>\n",
              "      <td>Whitney Houston, Angela Bassett, Loretta Devine</td>\n",
              "      <td>Forest Whitaker</td>\n",
              "      <td>Cheated on, mistreated and stepped on, the wom...</td>\n",
              "    </tr>\n",
              "    <tr>\n",
              "      <th>5</th>\n",
              "      <td>Father of the Bride Part II (1995)</td>\n",
              "      <td>Comedy</td>\n",
              "      <td>Steve Martin, Diane Keaton, Martin Short</td>\n",
              "      <td>Charles Shyer</td>\n",
              "      <td>Just when George Banks has recovered from his ...</td>\n",
              "    </tr>\n",
              "    <tr>\n",
              "      <th>...</th>\n",
              "      <td>...</td>\n",
              "      <td>...</td>\n",
              "      <td>...</td>\n",
              "      <td>...</td>\n",
              "      <td>...</td>\n",
              "    </tr>\n",
              "    <tr>\n",
              "      <th>128488</th>\n",
              "      <td>Wild Card (2015)</td>\n",
              "      <td>Crime|Drama|Thriller</td>\n",
              "      <td>Jason Statham, Michael Angarano, Dominik Garcia</td>\n",
              "      <td>Simon West</td>\n",
              "      <td>When a Las Vegas bodyguard with lethal skills ...</td>\n",
              "    </tr>\n",
              "    <tr>\n",
              "      <th>129354</th>\n",
              "      <td>Focus (2015)</td>\n",
              "      <td>Comedy|Crime|Drama|Romance</td>\n",
              "      <td>Will Smith, Margot Robbie, Rodrigo Santoro</td>\n",
              "      <td>Glenn Ficarra, John Requa</td>\n",
              "      <td>Nicky, an accomplished con artist, gets romant...</td>\n",
              "    </tr>\n",
              "    <tr>\n",
              "      <th>129428</th>\n",
              "      <td>The Second Best Exotic Marigold Hotel (2015)</td>\n",
              "      <td>Comedy|Drama</td>\n",
              "      <td>Dev Patel, Judi Dench, Richard Gere</td>\n",
              "      <td>John Madden</td>\n",
              "      <td>As the Best Exotic Marigold Hotel has only a s...</td>\n",
              "    </tr>\n",
              "    <tr>\n",
              "      <th>130073</th>\n",
              "      <td>Cinderella (2015)</td>\n",
              "      <td>Adventure|Children|Drama|Sci-Fi</td>\n",
              "      <td>Lily James, Cate Blanchett, Richard Madden</td>\n",
              "      <td>Kenneth Branagh</td>\n",
              "      <td>When her father unexpectedly passes away, youn...</td>\n",
              "    </tr>\n",
              "    <tr>\n",
              "      <th>130490</th>\n",
              "      <td>Insurgent (2015)</td>\n",
              "      <td>Action|Romance|Sci-Fi</td>\n",
              "      <td>Shailene Woodley, Theo James, Miles Teller</td>\n",
              "      <td>Robert Schwentke</td>\n",
              "      <td>Beatrice Prior must confront her inner demons ...</td>\n",
              "    </tr>\n",
              "  </tbody>\n",
              "</table>\n",
              "<p>10239 rows × 5 columns</p>\n",
              "</div>"
            ],
            "text/plain": [
              "                                                title  \\\n",
              "movieId                                                 \n",
              "1                                    Toy Story (1995)   \n",
              "2                                      Jumanji (1995)   \n",
              "3                             Grumpier Old Men (1995)   \n",
              "4                            Waiting to Exhale (1995)   \n",
              "5                  Father of the Bride Part II (1995)   \n",
              "...                                               ...   \n",
              "128488                               Wild Card (2015)   \n",
              "129354                                   Focus (2015)   \n",
              "129428   The Second Best Exotic Marigold Hotel (2015)   \n",
              "130073                              Cinderella (2015)   \n",
              "130490                               Insurgent (2015)   \n",
              "\n",
              "                                              genres  \\\n",
              "movieId                                                \n",
              "1        Adventure|Animation|Children|Comedy|Fantasy   \n",
              "2                         Adventure|Children|Fantasy   \n",
              "3                                     Comedy|Romance   \n",
              "4                               Comedy|Drama|Romance   \n",
              "5                                             Comedy   \n",
              "...                                              ...   \n",
              "128488                          Crime|Drama|Thriller   \n",
              "129354                    Comedy|Crime|Drama|Romance   \n",
              "129428                                  Comedy|Drama   \n",
              "130073               Adventure|Children|Drama|Sci-Fi   \n",
              "130490                         Action|Romance|Sci-Fi   \n",
              "\n",
              "                                                  actors  \\\n",
              "movieId                                                    \n",
              "1                      Tom Hanks, Tim Allen, Don Rickles   \n",
              "2          Robin Williams, Kirsten Dunst, Bradley Pierce   \n",
              "3               Walter Matthau, Jack Lemmon, Ann-Margret   \n",
              "4        Whitney Houston, Angela Bassett, Loretta Devine   \n",
              "5               Steve Martin, Diane Keaton, Martin Short   \n",
              "...                                                  ...   \n",
              "128488   Jason Statham, Michael Angarano, Dominik Garcia   \n",
              "129354        Will Smith, Margot Robbie, Rodrigo Santoro   \n",
              "129428               Dev Patel, Judi Dench, Richard Gere   \n",
              "130073        Lily James, Cate Blanchett, Richard Madden   \n",
              "130490        Shailene Woodley, Theo James, Miles Teller   \n",
              "\n",
              "                          director  \\\n",
              "movieId                              \n",
              "1                    John Lasseter   \n",
              "2                     Joe Johnston   \n",
              "3                    Howard Deutch   \n",
              "4                  Forest Whitaker   \n",
              "5                    Charles Shyer   \n",
              "...                            ...   \n",
              "128488                  Simon West   \n",
              "129354   Glenn Ficarra, John Requa   \n",
              "129428                 John Madden   \n",
              "130073             Kenneth Branagh   \n",
              "130490            Robert Schwentke   \n",
              "\n",
              "                                               description  \n",
              "movieId                                                     \n",
              "1        Led by Woody, Andy's toys live happily in his ...  \n",
              "2        When siblings Judy and Peter discover an encha...  \n",
              "3        A family wedding reignites the ancient feud be...  \n",
              "4        Cheated on, mistreated and stepped on, the wom...  \n",
              "5        Just when George Banks has recovered from his ...  \n",
              "...                                                    ...  \n",
              "128488   When a Las Vegas bodyguard with lethal skills ...  \n",
              "129354   Nicky, an accomplished con artist, gets romant...  \n",
              "129428   As the Best Exotic Marigold Hotel has only a s...  \n",
              "130073   When her father unexpectedly passes away, youn...  \n",
              "130490   Beatrice Prior must confront her inner demons ...  \n",
              "\n",
              "[10239 rows x 5 columns]"
            ]
          },
          "execution_count": 26,
          "metadata": {},
          "output_type": "execute_result"
        }
      ],
      "source": [
        "movie_profile_10k"
      ]
    },
    {
      "cell_type": "code",
      "execution_count": 33,
      "metadata": {
        "id": "lMgFnudNxCs0"
      },
      "outputs": [],
      "source": [
        "from notebook_helper import MovieMetadata\n",
        "\n",
        "#tmdb_metadata_path = '/content/enriched_movies27k.csv'\n",
        "tmdb_metadata_path = r\"D:\\HUST\\Lab\\UserGenProfile\\enriched_movies27k.csv\"\n",
        "\n",
        "tmdb_metadata = MovieMetadata(\n",
        "    tmdb_metadata_path,\n",
        "    final_genome_scores,\n",
        "    df_genome_tags\n",
        ")"
      ]
    },
    {
      "cell_type": "code",
      "execution_count": 42,
      "metadata": {
        "colab": {
          "base_uri": "https://localhost:8080/",
          "height": 424
        },
        "id": "m6t92HXHczqg",
        "outputId": "18db3553-70bf-4a45-ce81-a633175c5d87"
      },
      "outputs": [
        {
          "data": {
            "text/html": [
              "<div>\n",
              "<style scoped>\n",
              "    .dataframe tbody tr th:only-of-type {\n",
              "        vertical-align: middle;\n",
              "    }\n",
              "\n",
              "    .dataframe tbody tr th {\n",
              "        vertical-align: top;\n",
              "    }\n",
              "\n",
              "    .dataframe thead th {\n",
              "        text-align: right;\n",
              "    }\n",
              "</style>\n",
              "<table border=\"1\" class=\"dataframe\">\n",
              "  <thead>\n",
              "    <tr style=\"text-align: right;\">\n",
              "      <th></th>\n",
              "      <th>movieId</th>\n",
              "      <th>title</th>\n",
              "      <th>genres</th>\n",
              "      <th>actors</th>\n",
              "      <th>director</th>\n",
              "    </tr>\n",
              "  </thead>\n",
              "  <tbody>\n",
              "    <tr>\n",
              "      <th>0</th>\n",
              "      <td>1</td>\n",
              "      <td>Toy Story (1995)</td>\n",
              "      <td>Adventure|Animation|Children|Comedy|Fantasy</td>\n",
              "      <td>Tom Hanks, Tim Allen, Don Rickles, Jim Varney,...</td>\n",
              "      <td>John Lasseter</td>\n",
              "    </tr>\n",
              "    <tr>\n",
              "      <th>1</th>\n",
              "      <td>2</td>\n",
              "      <td>Jumanji (1995)</td>\n",
              "      <td>Adventure|Children|Fantasy</td>\n",
              "      <td>Robin Williams, Kirsten Dunst, Bradley Pierce,...</td>\n",
              "      <td>Joe Johnston</td>\n",
              "    </tr>\n",
              "    <tr>\n",
              "      <th>2</th>\n",
              "      <td>3</td>\n",
              "      <td>Grumpier Old Men (1995)</td>\n",
              "      <td>Comedy|Romance</td>\n",
              "      <td>Walter Matthau, Jack Lemmon, Ann-Margret, Soph...</td>\n",
              "      <td>Howard Deutch</td>\n",
              "    </tr>\n",
              "    <tr>\n",
              "      <th>3</th>\n",
              "      <td>4</td>\n",
              "      <td>Waiting to Exhale (1995)</td>\n",
              "      <td>Comedy|Drama|Romance</td>\n",
              "      <td>Whitney Houston, Angela Bassett, Loretta Devin...</td>\n",
              "      <td>Forest Whitaker</td>\n",
              "    </tr>\n",
              "    <tr>\n",
              "      <th>4</th>\n",
              "      <td>5</td>\n",
              "      <td>Father of the Bride Part II (1995)</td>\n",
              "      <td>Comedy</td>\n",
              "      <td>Steve Martin, Diane Keaton, Martin Short, Kimb...</td>\n",
              "      <td>Charles Shyer</td>\n",
              "    </tr>\n",
              "    <tr>\n",
              "      <th>...</th>\n",
              "      <td>...</td>\n",
              "      <td>...</td>\n",
              "      <td>...</td>\n",
              "      <td>...</td>\n",
              "      <td>...</td>\n",
              "    </tr>\n",
              "    <tr>\n",
              "      <th>27273</th>\n",
              "      <td>131254</td>\n",
              "      <td>Kein Bund für's Leben (2007)</td>\n",
              "      <td>Comedy</td>\n",
              "      <td>Franz Dinda, Florian Lukas, Oona-Devi Liebich,...</td>\n",
              "      <td>Granz Henman</td>\n",
              "    </tr>\n",
              "    <tr>\n",
              "      <th>27274</th>\n",
              "      <td>131256</td>\n",
              "      <td>Feuer, Eis &amp; Dosenbier (2002)</td>\n",
              "      <td>Comedy</td>\n",
              "      <td>Rick Kavanian, Axel Stein, Eva Habermann, Chri...</td>\n",
              "      <td>Matthias Dinter</td>\n",
              "    </tr>\n",
              "    <tr>\n",
              "      <th>27275</th>\n",
              "      <td>131258</td>\n",
              "      <td>The Pirates (2014)</td>\n",
              "      <td>Adventure</td>\n",
              "      <td>Son Ye-jin, Kim Nam-gil, Oh Dal-su, Park Cheol...</td>\n",
              "      <td>Lee Suk-hoon</td>\n",
              "    </tr>\n",
              "    <tr>\n",
              "      <th>27276</th>\n",
              "      <td>131260</td>\n",
              "      <td>Rentun Ruusu (2001)</td>\n",
              "      <td>(no genres listed)</td>\n",
              "      <td>Martti Suosalo, Ilkka Koivula, Riitta Salminen...</td>\n",
              "      <td>Timo Koivusalo</td>\n",
              "    </tr>\n",
              "    <tr>\n",
              "      <th>27277</th>\n",
              "      <td>131262</td>\n",
              "      <td>Innocence (2014)</td>\n",
              "      <td>Adventure|Fantasy|Horror</td>\n",
              "      <td>Sophie Lane Curtis, Kelly Reilly, Graham Phill...</td>\n",
              "      <td>Hilary Brougher</td>\n",
              "    </tr>\n",
              "  </tbody>\n",
              "</table>\n",
              "<p>27278 rows × 5 columns</p>\n",
              "</div>"
            ],
            "text/plain": [
              "       movieId                               title  \\\n",
              "0            1                    Toy Story (1995)   \n",
              "1            2                      Jumanji (1995)   \n",
              "2            3             Grumpier Old Men (1995)   \n",
              "3            4            Waiting to Exhale (1995)   \n",
              "4            5  Father of the Bride Part II (1995)   \n",
              "...        ...                                 ...   \n",
              "27273   131254        Kein Bund für's Leben (2007)   \n",
              "27274   131256       Feuer, Eis & Dosenbier (2002)   \n",
              "27275   131258                  The Pirates (2014)   \n",
              "27276   131260                 Rentun Ruusu (2001)   \n",
              "27277   131262                    Innocence (2014)   \n",
              "\n",
              "                                            genres  \\\n",
              "0      Adventure|Animation|Children|Comedy|Fantasy   \n",
              "1                       Adventure|Children|Fantasy   \n",
              "2                                   Comedy|Romance   \n",
              "3                             Comedy|Drama|Romance   \n",
              "4                                           Comedy   \n",
              "...                                            ...   \n",
              "27273                                       Comedy   \n",
              "27274                                       Comedy   \n",
              "27275                                    Adventure   \n",
              "27276                           (no genres listed)   \n",
              "27277                     Adventure|Fantasy|Horror   \n",
              "\n",
              "                                                  actors         director  \n",
              "0      Tom Hanks, Tim Allen, Don Rickles, Jim Varney,...    John Lasseter  \n",
              "1      Robin Williams, Kirsten Dunst, Bradley Pierce,...     Joe Johnston  \n",
              "2      Walter Matthau, Jack Lemmon, Ann-Margret, Soph...    Howard Deutch  \n",
              "3      Whitney Houston, Angela Bassett, Loretta Devin...  Forest Whitaker  \n",
              "4      Steve Martin, Diane Keaton, Martin Short, Kimb...    Charles Shyer  \n",
              "...                                                  ...              ...  \n",
              "27273  Franz Dinda, Florian Lukas, Oona-Devi Liebich,...     Granz Henman  \n",
              "27274  Rick Kavanian, Axel Stein, Eva Habermann, Chri...  Matthias Dinter  \n",
              "27275  Son Ye-jin, Kim Nam-gil, Oh Dal-su, Park Cheol...     Lee Suk-hoon  \n",
              "27276  Martti Suosalo, Ilkka Koivula, Riitta Salminen...   Timo Koivusalo  \n",
              "27277  Sophie Lane Curtis, Kelly Reilly, Graham Phill...  Hilary Brougher  \n",
              "\n",
              "[27278 rows x 5 columns]"
            ]
          },
          "execution_count": 42,
          "metadata": {},
          "output_type": "execute_result"
        }
      ],
      "source": [
        "tmdb_metadata.movie_profile"
      ]
    },
    {
      "cell_type": "code",
      "execution_count": 35,
      "metadata": {
        "id": "12adWRxSjdpV"
      },
      "outputs": [
        {
          "name": "stdout",
          "output_type": "stream",
          "text": [
            "Column 'movieId': 0 null values\n",
            "Column 'title': 0 null values\n",
            "Column 'genres': 0 null values\n",
            "Column 'actors': 1029 null values\n",
            "Column 'director': 589 null values\n"
          ]
        }
      ],
      "source": [
        "tmdb_metadata.check_null()"
      ]
    },
    {
      "cell_type": "code",
      "execution_count": 36,
      "metadata": {
        "colab": {
          "base_uri": "https://localhost:8080/"
        },
        "id": "FaHvrqDAzACH",
        "outputId": "a92228e8-b7a1-4bb1-987b-279196c6d934"
      },
      "outputs": [
        {
          "name": "stdout",
          "output_type": "stream",
          "text": [
            "Movie ID: 1\n",
            "Title: Toy Story (1995)\n",
            "Year: 1995\n",
            "Genres: Adventure, Animation, Children, Comedy, Fantasy\n",
            "Actors: Tom Hanks, Tim Allen, Don Rickles, Jim Varney, Wallace Shawn\n",
            "Director: John Lasseter\n"
          ]
        },
        {
          "data": {
            "text/plain": [
              "('Toy Story (1995)',\n",
              " 'Adventure, Animation, Children, Comedy, Fantasy',\n",
              " 'Tom Hanks, Tim Allen, Don Rickles, Jim Varney, Wallace Shawn',\n",
              " 'John Lasseter',\n",
              " '1995')"
            ]
          },
          "execution_count": 36,
          "metadata": {},
          "output_type": "execute_result"
        }
      ],
      "source": [
        "tmdb_metadata.get_data_metadata(1, print_check = True)"
      ]
    },
    {
      "cell_type": "markdown",
      "metadata": {
        "id": "LGD2S-zyFa3R"
      },
      "source": [
        "Movie Profile as a dict\n",
        "1. Title\n",
        "2. Year\n",
        "3. Genres\n",
        "4. Actors\n",
        "5. Directors\n",
        "6. Top tags with relevance scores"
      ]
    },
    {
      "cell_type": "code",
      "execution_count": 37,
      "metadata": {
        "colab": {
          "base_uri": "https://localhost:8080/"
        },
        "id": "-hki4vytzWqQ",
        "outputId": "ff2d358a-b9d5-4d34-99ba-d80dbefd32ce"
      },
      "outputs": [
        {
          "data": {
            "text/plain": [
              "{'Title': 'Toy Story (1995)',\n",
              " 'Year': '1995',\n",
              " 'Genres': 'Adventure, Animation, Children, Comedy, Fantasy',\n",
              " 'Actors': 'Tom Hanks, Tim Allen, Don Rickles, Jim Varney, Wallace Shawn',\n",
              " 'Directors': 'John Lasseter',\n",
              " 'Top tags with relevance scores': 'toys : 0.9992, computer animation : 0.9985, pixar animation : 0.9960, kids and family : 0.9908, animation : 0.9858, kids : 0.9792, pixar : 0.9667, children : 0.9643, cartoon : 0.9565, imdb top 250 : 0.9420, animated : 0.9333, childhood : 0.9263, great movie : 0.9207, disney animated feature : 0.9137, friendship : 0.9117, story : 0.9075, light : 0.9000, adventure : 0.8920, original : 0.8793, fun : 0.8778, disney : 0.8730, family : 0.8485, unlikely friendships : 0.8422, good : 0.8355, great : 0.8353, fun movie : 0.8230, cgi : 0.8193, classic : 0.8193, nostalgic : 0.8170, cute : 0.8000, clever : 0.7803, witty : 0.7768, heartwarming : 0.7588, original plot : 0.7580, oscar (best animated feature) : 0.7540, technology : 0.7523, storytelling : 0.7500, whimsical : 0.7370, feel-good : 0.7342, good soundtrack : 0.7338, entertaining : 0.7210, very good : 0.7145, oscar winner : 0.7010, monsters : 0.6955, funny : 0.6950, humorous : 0.6890, animals : 0.6877, affectionate : 0.6763, runaway : 0.6710, action : 0.6705, quotable : 0.6573, mentor : 0.6492, oscar (best directing) : 0.6410, dialogue : 0.6375, great ending : 0.6315, humor : 0.6292, excellent : 0.6252, feel good movie : 0.6192, comedy : 0.6180, talky : 0.6095, visual : 0.6042, fantasy : 0.5968, chase : 0.5900, creativity : 0.5875, touching : 0.5820, interesting : 0.5787, 3d : 0.5770, sweet : 0.5737, cute! : 0.5700, simple : 0.5487, animal movie : 0.5447, cool : 0.5445, very funny : 0.5440, excellent script : 0.5415, based on book : 0.5343, highly quotable : 0.5312, imagination : 0.5305, colourful : 0.5248, fairy tale : 0.5202, sentimental : 0.5165, destiny : 0.5152, talking animals : 0.5068, redemption : 0.4972, oscar : 0.4970, intense : 0.4928, transformation : 0.4915, pg-13 : 0.4910, suspense : 0.4900, fast paced : 0.4860, catastrophe : 0.4860, happy ending : 0.4850, movielens top pick : 0.4828, good acting : 0.4785, good versus evil : 0.4755, oscar (best effects - visual effects) : 0.4720, exciting : 0.4708, good story : 0.4667, space : 0.4647, fantasy world : 0.4630, goofy : 0.4570'}"
            ]
          },
          "execution_count": 37,
          "metadata": {},
          "output_type": "execute_result"
        }
      ],
      "source": [
        "tmdb_metadata.build_movie_profile(1, num_tags = 100)"
      ]
    },
    {
      "cell_type": "markdown",
      "metadata": {
        "id": "s7At_tLeedea"
      },
      "source": [
        "# Movie Profile"
      ]
    },
    {
      "cell_type": "code",
      "execution_count": 38,
      "metadata": {
        "colab": {
          "base_uri": "https://localhost:8080/",
          "height": 356
        },
        "id": "Dg5Hlv7SYBlF",
        "outputId": "859a64b5-b722-49ae-d71d-92c228347fe1"
      },
      "outputs": [
        {
          "name": "stderr",
          "output_type": "stream",
          "text": [
            "Creating movie paragraphs: 100%|██████████| 10239/10239 [00:02<00:00, 4509.21movie/s]\n"
          ]
        }
      ],
      "source": [
        "from notebook_helper import CleanedMovieProfile\n",
        "\n",
        "cleaned_movie_profile = CleanedMovieProfile(\n",
        "    tmdb_metadata_path = tmdb_metadata_path,\n",
        "    movie_profile_csv = movie_profile_10k,\n",
        "    df_genome_scores = final_genome_scores,\n",
        "    df_genome_tags = df_genome_tags,\n",
        "    df_ratings = final_ratings,\n",
        "    num_tags = num_top_tags\n",
        ")"
      ]
    },
    {
      "cell_type": "code",
      "execution_count": 45,
      "metadata": {},
      "outputs": [
        {
          "data": {
            "text/html": [
              "<div>\n",
              "<style scoped>\n",
              "    .dataframe tbody tr th:only-of-type {\n",
              "        vertical-align: middle;\n",
              "    }\n",
              "\n",
              "    .dataframe tbody tr th {\n",
              "        vertical-align: top;\n",
              "    }\n",
              "\n",
              "    .dataframe thead th {\n",
              "        text-align: right;\n",
              "    }\n",
              "</style>\n",
              "<table border=\"1\" class=\"dataframe\">\n",
              "  <thead>\n",
              "    <tr style=\"text-align: right;\">\n",
              "      <th></th>\n",
              "      <th>movieId</th>\n",
              "      <th>title</th>\n",
              "      <th>genres</th>\n",
              "      <th>actors</th>\n",
              "      <th>director</th>\n",
              "    </tr>\n",
              "  </thead>\n",
              "  <tbody>\n",
              "    <tr>\n",
              "      <th>0</th>\n",
              "      <td>1</td>\n",
              "      <td>Toy Story (1995)</td>\n",
              "      <td>Adventure|Animation|Children|Comedy|Fantasy</td>\n",
              "      <td>Tom Hanks, Tim Allen, Don Rickles, Jim Varney,...</td>\n",
              "      <td>John Lasseter</td>\n",
              "    </tr>\n",
              "    <tr>\n",
              "      <th>1</th>\n",
              "      <td>2</td>\n",
              "      <td>Jumanji (1995)</td>\n",
              "      <td>Adventure|Children|Fantasy</td>\n",
              "      <td>Robin Williams, Kirsten Dunst, Bradley Pierce,...</td>\n",
              "      <td>Joe Johnston</td>\n",
              "    </tr>\n",
              "    <tr>\n",
              "      <th>2</th>\n",
              "      <td>3</td>\n",
              "      <td>Grumpier Old Men (1995)</td>\n",
              "      <td>Comedy|Romance</td>\n",
              "      <td>Walter Matthau, Jack Lemmon, Ann-Margret, Soph...</td>\n",
              "      <td>Howard Deutch</td>\n",
              "    </tr>\n",
              "    <tr>\n",
              "      <th>3</th>\n",
              "      <td>4</td>\n",
              "      <td>Waiting to Exhale (1995)</td>\n",
              "      <td>Comedy|Drama|Romance</td>\n",
              "      <td>Whitney Houston, Angela Bassett, Loretta Devin...</td>\n",
              "      <td>Forest Whitaker</td>\n",
              "    </tr>\n",
              "    <tr>\n",
              "      <th>4</th>\n",
              "      <td>5</td>\n",
              "      <td>Father of the Bride Part II (1995)</td>\n",
              "      <td>Comedy</td>\n",
              "      <td>Steve Martin, Diane Keaton, Martin Short, Kimb...</td>\n",
              "      <td>Charles Shyer</td>\n",
              "    </tr>\n",
              "    <tr>\n",
              "      <th>...</th>\n",
              "      <td>...</td>\n",
              "      <td>...</td>\n",
              "      <td>...</td>\n",
              "      <td>...</td>\n",
              "      <td>...</td>\n",
              "    </tr>\n",
              "    <tr>\n",
              "      <th>27273</th>\n",
              "      <td>131254</td>\n",
              "      <td>Kein Bund für's Leben (2007)</td>\n",
              "      <td>Comedy</td>\n",
              "      <td>Franz Dinda, Florian Lukas, Oona-Devi Liebich,...</td>\n",
              "      <td>Granz Henman</td>\n",
              "    </tr>\n",
              "    <tr>\n",
              "      <th>27274</th>\n",
              "      <td>131256</td>\n",
              "      <td>Feuer, Eis &amp; Dosenbier (2002)</td>\n",
              "      <td>Comedy</td>\n",
              "      <td>Rick Kavanian, Axel Stein, Eva Habermann, Chri...</td>\n",
              "      <td>Matthias Dinter</td>\n",
              "    </tr>\n",
              "    <tr>\n",
              "      <th>27275</th>\n",
              "      <td>131258</td>\n",
              "      <td>The Pirates (2014)</td>\n",
              "      <td>Adventure</td>\n",
              "      <td>Son Ye-jin, Kim Nam-gil, Oh Dal-su, Park Cheol...</td>\n",
              "      <td>Lee Suk-hoon</td>\n",
              "    </tr>\n",
              "    <tr>\n",
              "      <th>27276</th>\n",
              "      <td>131260</td>\n",
              "      <td>Rentun Ruusu (2001)</td>\n",
              "      <td>(no genres listed)</td>\n",
              "      <td>Martti Suosalo, Ilkka Koivula, Riitta Salminen...</td>\n",
              "      <td>Timo Koivusalo</td>\n",
              "    </tr>\n",
              "    <tr>\n",
              "      <th>27277</th>\n",
              "      <td>131262</td>\n",
              "      <td>Innocence (2014)</td>\n",
              "      <td>Adventure|Fantasy|Horror</td>\n",
              "      <td>Sophie Lane Curtis, Kelly Reilly, Graham Phill...</td>\n",
              "      <td>Hilary Brougher</td>\n",
              "    </tr>\n",
              "  </tbody>\n",
              "</table>\n",
              "<p>27278 rows × 5 columns</p>\n",
              "</div>"
            ],
            "text/plain": [
              "       movieId                               title  \\\n",
              "0            1                    Toy Story (1995)   \n",
              "1            2                      Jumanji (1995)   \n",
              "2            3             Grumpier Old Men (1995)   \n",
              "3            4            Waiting to Exhale (1995)   \n",
              "4            5  Father of the Bride Part II (1995)   \n",
              "...        ...                                 ...   \n",
              "27273   131254        Kein Bund für's Leben (2007)   \n",
              "27274   131256       Feuer, Eis & Dosenbier (2002)   \n",
              "27275   131258                  The Pirates (2014)   \n",
              "27276   131260                 Rentun Ruusu (2001)   \n",
              "27277   131262                    Innocence (2014)   \n",
              "\n",
              "                                            genres  \\\n",
              "0      Adventure|Animation|Children|Comedy|Fantasy   \n",
              "1                       Adventure|Children|Fantasy   \n",
              "2                                   Comedy|Romance   \n",
              "3                             Comedy|Drama|Romance   \n",
              "4                                           Comedy   \n",
              "...                                            ...   \n",
              "27273                                       Comedy   \n",
              "27274                                       Comedy   \n",
              "27275                                    Adventure   \n",
              "27276                           (no genres listed)   \n",
              "27277                     Adventure|Fantasy|Horror   \n",
              "\n",
              "                                                  actors         director  \n",
              "0      Tom Hanks, Tim Allen, Don Rickles, Jim Varney,...    John Lasseter  \n",
              "1      Robin Williams, Kirsten Dunst, Bradley Pierce,...     Joe Johnston  \n",
              "2      Walter Matthau, Jack Lemmon, Ann-Margret, Soph...    Howard Deutch  \n",
              "3      Whitney Houston, Angela Bassett, Loretta Devin...  Forest Whitaker  \n",
              "4      Steve Martin, Diane Keaton, Martin Short, Kimb...    Charles Shyer  \n",
              "...                                                  ...              ...  \n",
              "27273  Franz Dinda, Florian Lukas, Oona-Devi Liebich,...     Granz Henman  \n",
              "27274  Rick Kavanian, Axel Stein, Eva Habermann, Chri...  Matthias Dinter  \n",
              "27275  Son Ye-jin, Kim Nam-gil, Oh Dal-su, Park Cheol...     Lee Suk-hoon  \n",
              "27276  Martti Suosalo, Ilkka Koivula, Riitta Salminen...   Timo Koivusalo  \n",
              "27277  Sophie Lane Curtis, Kelly Reilly, Graham Phill...  Hilary Brougher  \n",
              "\n",
              "[27278 rows x 5 columns]"
            ]
          },
          "execution_count": 45,
          "metadata": {},
          "output_type": "execute_result"
        }
      ],
      "source": [
        "cleaned_movie_profile.movie_profile"
      ]
    },
    {
      "cell_type": "code",
      "execution_count": null,
      "metadata": {
        "colab": {
          "base_uri": "https://localhost:8080/",
          "height": 424
        },
        "id": "pSe-z7YQYhi-",
        "outputId": "1665be64-488a-4fef-c605-9e0ecf6d317e"
      },
      "outputs": [
        {
          "data": {
            "application/vnd.google.colaboratory.intrinsic+json": {
              "summary": "{\n  \"name\": \"cleaned_movie_profile\",\n  \"rows\": 10239,\n  \"fields\": [\n    {\n      \"column\": \"ProfileParagraph\",\n      \"properties\": {\n        \"dtype\": \"string\",\n        \"num_unique_values\": 10239,\n        \"samples\": [\n          \"Title: Brothers (2009). Year: 2009. Genres: Drama, Thriller, War. Actors: Tobey Maguire, Jake Gyllenhaal, Natalie Portman, Sam Shepard, Mare Winningham. Director: Jim Sheridan. TopTagsWithScores: war : 0.9480, family bonds : 0.9457, family drama : 0.9320, brothers : 0.9267, drama : 0.9117, intense : 0.8887, dramatic : 0.8825, original : 0.8197, great acting : 0.8182, guilt : 0.7995, family : 0.7728, war movie : 0.7728, emotional : 0.7705, relationships : 0.7670, remake : 0.7610, heartbreaking : 0.7248, wartime : 0.7185, dysfunctional family : 0.7147, good acting : 0.7120, dialogue : 0.6803, realistic : 0.6793, powerful ending : 0.6765, redemption : 0.6647, story : 0.6275, sacrifice : 0.6268, good : 0.6258, pg-13 : 0.6248, military : 0.6150, psychological : 0.6072, suspense : 0.6025, betrayal : 0.5960, best war films : 0.5900, excellent : 0.5690, complex : 0.5650, torture : 0.5623, anti-war : 0.5603, ethnic conflict : 0.5560, tense : 0.5560, survival : 0.5483, culture clash : 0.5410, excellent script : 0.5333, death : 0.5323, prejudice : 0.5245, tragedy : 0.5212, oscar : 0.5198, psychology : 0.5152, prison : 0.5150, adultery : 0.5025, vengeance : 0.4995, good soundtrack : 0.4958, honest : 0.4952, revenge : 0.4900, secrets : 0.4862, great ending : 0.4742, catastrophe : 0.4650, very good : 0.4645, storytelling : 0.4635, forceful : 0.4635, infidelity : 0.4580, great : 0.4532\",\n          \"Title: Gorky Park (1983). Year: 1983. Genres: Crime, Drama, Thriller. Actors: William Hurt, Lee Marvin, Brian Dennehy, Ian Bannen, Joanna Pacula. Director: Michael Apted. TopTagsWithScores: adapted from:book : 0.9673, cold war : 0.9563, espionage : 0.9560, police investigation : 0.9455, murder : 0.9235, corruption : 0.9050, political corruption : 0.8905, suspense : 0.8818, neo-noir : 0.8700, murder mystery : 0.8587, investigation : 0.8570, thriller : 0.8438, spying : 0.8435, original : 0.8435, crime : 0.8428, based on a book : 0.8320, russian : 0.8248, russia : 0.8222, mystery : 0.8200, twists & turns : 0.8162, interesting : 0.8055, detective : 0.8055, spy : 0.7973, tense : 0.7957, complicated : 0.7895, chase : 0.7805, conspiracy : 0.7690, secrets : 0.7670, good : 0.7517, intense : 0.7408, clever : 0.7290, books : 0.7245, suspenseful : 0.7205, great acting : 0.7190, adaptation : 0.7153, justice : 0.7135, spies : 0.7003, betrayal : 0.6993, drama : 0.6973, plot twist : 0.6915, complex : 0.6913, politics : 0.6907, dialogue : 0.6817, very interesting : 0.6807, violence : 0.6790, runaway : 0.6725, surprise ending : 0.6717, plot : 0.6710, finnish : 0.6620, great movie : 0.6595, violent : 0.6570, twist : 0.6535, based on book : 0.6432, lawyer : 0.6330, book : 0.6280, greed : 0.6205, pg-13 : 0.6175, stylish : 0.6125, very good : 0.6005, brainwashing : 0.5998\",\n          \"Title: Renegades (1989). Year: 1989. Genres: Action. Actors: Kiefer Sutherland, Lou Diamond Phillips, Jami Gertz, Robert Knepper, Bill Smitrovich. Director: Jack Sholder. TopTagsWithScores: undercover cop : 0.9543, indians : 0.9413, action : 0.8642, police corruption : 0.8348, good action : 0.7685, original : 0.7540, predictable : 0.7205, mob : 0.6957, native americans : 0.6903, bad : 0.6472, revenge : 0.6332, chase : 0.6102, heist : 0.6000, 80s : 0.5905, gangsters : 0.5590, detective : 0.5525, vengeance : 0.5443, mentor : 0.5365, great ending : 0.5282, so bad it's funny : 0.5280, justice : 0.5208, good soundtrack : 0.5110, big budget : 0.5102, bad plot : 0.4875, fun movie : 0.4830, great : 0.4810, violence : 0.4798, robbery : 0.4758, adaptation : 0.4600, corruption : 0.4542, lone hero : 0.4535, police investigation : 0.4477, nudity (full frontal - brief) : 0.4447, buddy movie : 0.4432, car chase : 0.4382, stereotypes : 0.4250, fantasy : 0.4145, catastrophe : 0.4125, kidnapping : 0.4110, great movie : 0.4055, mafia : 0.4022, stoner movie : 0.4002, fight scenes : 0.3920, storytelling : 0.3900, brutality : 0.3887, fantasy world : 0.3777, story : 0.3770, life philosophy : 0.3750, dialogue : 0.3745, 1980s : 0.3738, family : 0.3668, violent : 0.3648, natural disaster : 0.3638, cult film : 0.3632, overrated : 0.3628, first contact : 0.3590, adventure : 0.3588, canada : 0.3422, thriller : 0.3385, action packed : 0.3292\"\n        ],\n        \"semantic_type\": \"\",\n        \"description\": \"\"\n      }\n    }\n  ]\n}",
              "type": "dataframe"
            },
            "text/html": [
              "\n",
              "  <div id=\"df-8a1a52f0-ca8c-47b9-b75e-1a0d84608673\" class=\"colab-df-container\">\n",
              "    <div>\n",
              "<style scoped>\n",
              "    .dataframe tbody tr th:only-of-type {\n",
              "        vertical-align: middle;\n",
              "    }\n",
              "\n",
              "    .dataframe tbody tr th {\n",
              "        vertical-align: top;\n",
              "    }\n",
              "\n",
              "    .dataframe thead th {\n",
              "        text-align: right;\n",
              "    }\n",
              "</style>\n",
              "<table border=\"1\" class=\"dataframe\">\n",
              "  <thead>\n",
              "    <tr style=\"text-align: right;\">\n",
              "      <th></th>\n",
              "      <th>ProfileParagraph</th>\n",
              "    </tr>\n",
              "  </thead>\n",
              "  <tbody>\n",
              "    <tr>\n",
              "      <th>2</th>\n",
              "      <td>Title: Jumanji (1995). Year: 1995. Genres: Adv...</td>\n",
              "    </tr>\n",
              "    <tr>\n",
              "      <th>29</th>\n",
              "      <td>Title: City of Lost Children, The (Cité des en...</td>\n",
              "    </tr>\n",
              "    <tr>\n",
              "      <th>32</th>\n",
              "      <td>Title: Twelve Monkeys (a.k.a. 12 Monkeys) (199...</td>\n",
              "    </tr>\n",
              "    <tr>\n",
              "      <th>47</th>\n",
              "      <td>Title: Seven (a.k.a. Se7en) (1995). Year: 1995...</td>\n",
              "    </tr>\n",
              "    <tr>\n",
              "      <th>50</th>\n",
              "      <td>Title: Usual Suspects, The (1995). Year: 1995....</td>\n",
              "    </tr>\n",
              "    <tr>\n",
              "      <th>...</th>\n",
              "      <td>...</td>\n",
              "    </tr>\n",
              "    <tr>\n",
              "      <th>8913</th>\n",
              "      <td>Title: Around the Bend (2004). Year: 2004. Gen...</td>\n",
              "    </tr>\n",
              "    <tr>\n",
              "      <th>117364</th>\n",
              "      <td>Title: Virunga (2014). Year: 2014. Genres: Doc...</td>\n",
              "    </tr>\n",
              "    <tr>\n",
              "      <th>95193</th>\n",
              "      <td>Title: Pocahontas II: Journey to a New World (...</td>\n",
              "    </tr>\n",
              "    <tr>\n",
              "      <th>114459</th>\n",
              "      <td>Title: White Bird in a Blizzard (2014). Year: ...</td>\n",
              "    </tr>\n",
              "    <tr>\n",
              "      <th>48346</th>\n",
              "      <td>Title: Land Before Time II: The Great Valley A...</td>\n",
              "    </tr>\n",
              "  </tbody>\n",
              "</table>\n",
              "<p>10239 rows × 1 columns</p>\n",
              "</div>\n",
              "    <div class=\"colab-df-buttons\">\n",
              "\n",
              "  <div class=\"colab-df-container\">\n",
              "    <button class=\"colab-df-convert\" onclick=\"convertToInteractive('df-8a1a52f0-ca8c-47b9-b75e-1a0d84608673')\"\n",
              "            title=\"Convert this dataframe to an interactive table.\"\n",
              "            style=\"display:none;\">\n",
              "\n",
              "  <svg xmlns=\"http://www.w3.org/2000/svg\" height=\"24px\" viewBox=\"0 -960 960 960\">\n",
              "    <path d=\"M120-120v-720h720v720H120Zm60-500h600v-160H180v160Zm220 220h160v-160H400v160Zm0 220h160v-160H400v160ZM180-400h160v-160H180v160Zm440 0h160v-160H620v160ZM180-180h160v-160H180v160Zm440 0h160v-160H620v160Z\"/>\n",
              "  </svg>\n",
              "    </button>\n",
              "\n",
              "  <style>\n",
              "    .colab-df-container {\n",
              "      display:flex;\n",
              "      gap: 12px;\n",
              "    }\n",
              "\n",
              "    .colab-df-convert {\n",
              "      background-color: #E8F0FE;\n",
              "      border: none;\n",
              "      border-radius: 50%;\n",
              "      cursor: pointer;\n",
              "      display: none;\n",
              "      fill: #1967D2;\n",
              "      height: 32px;\n",
              "      padding: 0 0 0 0;\n",
              "      width: 32px;\n",
              "    }\n",
              "\n",
              "    .colab-df-convert:hover {\n",
              "      background-color: #E2EBFA;\n",
              "      box-shadow: 0px 1px 2px rgba(60, 64, 67, 0.3), 0px 1px 3px 1px rgba(60, 64, 67, 0.15);\n",
              "      fill: #174EA6;\n",
              "    }\n",
              "\n",
              "    .colab-df-buttons div {\n",
              "      margin-bottom: 4px;\n",
              "    }\n",
              "\n",
              "    [theme=dark] .colab-df-convert {\n",
              "      background-color: #3B4455;\n",
              "      fill: #D2E3FC;\n",
              "    }\n",
              "\n",
              "    [theme=dark] .colab-df-convert:hover {\n",
              "      background-color: #434B5C;\n",
              "      box-shadow: 0px 1px 3px 1px rgba(0, 0, 0, 0.15);\n",
              "      filter: drop-shadow(0px 1px 2px rgba(0, 0, 0, 0.3));\n",
              "      fill: #FFFFFF;\n",
              "    }\n",
              "  </style>\n",
              "\n",
              "    <script>\n",
              "      const buttonEl =\n",
              "        document.querySelector('#df-8a1a52f0-ca8c-47b9-b75e-1a0d84608673 button.colab-df-convert');\n",
              "      buttonEl.style.display =\n",
              "        google.colab.kernel.accessAllowed ? 'block' : 'none';\n",
              "\n",
              "      async function convertToInteractive(key) {\n",
              "        const element = document.querySelector('#df-8a1a52f0-ca8c-47b9-b75e-1a0d84608673');\n",
              "        const dataTable =\n",
              "          await google.colab.kernel.invokeFunction('convertToInteractive',\n",
              "                                                    [key], {});\n",
              "        if (!dataTable) return;\n",
              "\n",
              "        const docLinkHtml = 'Like what you see? Visit the ' +\n",
              "          '<a target=\"_blank\" href=https://colab.research.google.com/notebooks/data_table.ipynb>data table notebook</a>'\n",
              "          + ' to learn more about interactive tables.';\n",
              "        element.innerHTML = '';\n",
              "        dataTable['output_type'] = 'display_data';\n",
              "        await google.colab.output.renderOutput(dataTable, element);\n",
              "        const docLink = document.createElement('div');\n",
              "        docLink.innerHTML = docLinkHtml;\n",
              "        element.appendChild(docLink);\n",
              "      }\n",
              "    </script>\n",
              "  </div>\n",
              "\n",
              "\n",
              "    <div id=\"df-1620833f-f423-4817-8110-84d49c32d3dc\">\n",
              "      <button class=\"colab-df-quickchart\" onclick=\"quickchart('df-1620833f-f423-4817-8110-84d49c32d3dc')\"\n",
              "                title=\"Suggest charts\"\n",
              "                style=\"display:none;\">\n",
              "\n",
              "<svg xmlns=\"http://www.w3.org/2000/svg\" height=\"24px\"viewBox=\"0 0 24 24\"\n",
              "     width=\"24px\">\n",
              "    <g>\n",
              "        <path d=\"M19 3H5c-1.1 0-2 .9-2 2v14c0 1.1.9 2 2 2h14c1.1 0 2-.9 2-2V5c0-1.1-.9-2-2-2zM9 17H7v-7h2v7zm4 0h-2V7h2v10zm4 0h-2v-4h2v4z\"/>\n",
              "    </g>\n",
              "</svg>\n",
              "      </button>\n",
              "\n",
              "<style>\n",
              "  .colab-df-quickchart {\n",
              "      --bg-color: #E8F0FE;\n",
              "      --fill-color: #1967D2;\n",
              "      --hover-bg-color: #E2EBFA;\n",
              "      --hover-fill-color: #174EA6;\n",
              "      --disabled-fill-color: #AAA;\n",
              "      --disabled-bg-color: #DDD;\n",
              "  }\n",
              "\n",
              "  [theme=dark] .colab-df-quickchart {\n",
              "      --bg-color: #3B4455;\n",
              "      --fill-color: #D2E3FC;\n",
              "      --hover-bg-color: #434B5C;\n",
              "      --hover-fill-color: #FFFFFF;\n",
              "      --disabled-bg-color: #3B4455;\n",
              "      --disabled-fill-color: #666;\n",
              "  }\n",
              "\n",
              "  .colab-df-quickchart {\n",
              "    background-color: var(--bg-color);\n",
              "    border: none;\n",
              "    border-radius: 50%;\n",
              "    cursor: pointer;\n",
              "    display: none;\n",
              "    fill: var(--fill-color);\n",
              "    height: 32px;\n",
              "    padding: 0;\n",
              "    width: 32px;\n",
              "  }\n",
              "\n",
              "  .colab-df-quickchart:hover {\n",
              "    background-color: var(--hover-bg-color);\n",
              "    box-shadow: 0 1px 2px rgba(60, 64, 67, 0.3), 0 1px 3px 1px rgba(60, 64, 67, 0.15);\n",
              "    fill: var(--button-hover-fill-color);\n",
              "  }\n",
              "\n",
              "  .colab-df-quickchart-complete:disabled,\n",
              "  .colab-df-quickchart-complete:disabled:hover {\n",
              "    background-color: var(--disabled-bg-color);\n",
              "    fill: var(--disabled-fill-color);\n",
              "    box-shadow: none;\n",
              "  }\n",
              "\n",
              "  .colab-df-spinner {\n",
              "    border: 2px solid var(--fill-color);\n",
              "    border-color: transparent;\n",
              "    border-bottom-color: var(--fill-color);\n",
              "    animation:\n",
              "      spin 1s steps(1) infinite;\n",
              "  }\n",
              "\n",
              "  @keyframes spin {\n",
              "    0% {\n",
              "      border-color: transparent;\n",
              "      border-bottom-color: var(--fill-color);\n",
              "      border-left-color: var(--fill-color);\n",
              "    }\n",
              "    20% {\n",
              "      border-color: transparent;\n",
              "      border-left-color: var(--fill-color);\n",
              "      border-top-color: var(--fill-color);\n",
              "    }\n",
              "    30% {\n",
              "      border-color: transparent;\n",
              "      border-left-color: var(--fill-color);\n",
              "      border-top-color: var(--fill-color);\n",
              "      border-right-color: var(--fill-color);\n",
              "    }\n",
              "    40% {\n",
              "      border-color: transparent;\n",
              "      border-right-color: var(--fill-color);\n",
              "      border-top-color: var(--fill-color);\n",
              "    }\n",
              "    60% {\n",
              "      border-color: transparent;\n",
              "      border-right-color: var(--fill-color);\n",
              "    }\n",
              "    80% {\n",
              "      border-color: transparent;\n",
              "      border-right-color: var(--fill-color);\n",
              "      border-bottom-color: var(--fill-color);\n",
              "    }\n",
              "    90% {\n",
              "      border-color: transparent;\n",
              "      border-bottom-color: var(--fill-color);\n",
              "    }\n",
              "  }\n",
              "</style>\n",
              "\n",
              "      <script>\n",
              "        async function quickchart(key) {\n",
              "          const quickchartButtonEl =\n",
              "            document.querySelector('#' + key + ' button');\n",
              "          quickchartButtonEl.disabled = true;  // To prevent multiple clicks.\n",
              "          quickchartButtonEl.classList.add('colab-df-spinner');\n",
              "          try {\n",
              "            const charts = await google.colab.kernel.invokeFunction(\n",
              "                'suggestCharts', [key], {});\n",
              "          } catch (error) {\n",
              "            console.error('Error during call to suggestCharts:', error);\n",
              "          }\n",
              "          quickchartButtonEl.classList.remove('colab-df-spinner');\n",
              "          quickchartButtonEl.classList.add('colab-df-quickchart-complete');\n",
              "        }\n",
              "        (() => {\n",
              "          let quickchartButtonEl =\n",
              "            document.querySelector('#df-1620833f-f423-4817-8110-84d49c32d3dc button');\n",
              "          quickchartButtonEl.style.display =\n",
              "            google.colab.kernel.accessAllowed ? 'block' : 'none';\n",
              "        })();\n",
              "      </script>\n",
              "    </div>\n",
              "\n",
              "    </div>\n",
              "  </div>\n"
            ],
            "text/plain": [
              "                                         ProfileParagraph\n",
              "2       Title: Jumanji (1995). Year: 1995. Genres: Adv...\n",
              "29      Title: City of Lost Children, The (Cité des en...\n",
              "32      Title: Twelve Monkeys (a.k.a. 12 Monkeys) (199...\n",
              "47      Title: Seven (a.k.a. Se7en) (1995). Year: 1995...\n",
              "50      Title: Usual Suspects, The (1995). Year: 1995....\n",
              "...                                                   ...\n",
              "8913    Title: Around the Bend (2004). Year: 2004. Gen...\n",
              "117364  Title: Virunga (2014). Year: 2014. Genres: Doc...\n",
              "95193   Title: Pocahontas II: Journey to a New World (...\n",
              "114459  Title: White Bird in a Blizzard (2014). Year: ...\n",
              "48346   Title: Land Before Time II: The Great Valley A...\n",
              "\n",
              "[10239 rows x 1 columns]"
            ]
          },
          "execution_count": 24,
          "metadata": {},
          "output_type": "execute_result"
        }
      ],
      "source": [
        "cleaned_movie_profile.cleaned_movie_profile"
      ]
    },
    {
      "cell_type": "markdown",
      "metadata": {
        "id": "DhuooqIUFmro"
      },
      "source": [
        "# Generate UserProfile"
      ]
    },
    {
      "cell_type": "code",
      "execution_count": null,
      "metadata": {
        "id": "6RUc9Ah5MwJY"
      },
      "outputs": [],
      "source": [
        "from notebook_helper import GenUserProfile\n",
        "\n",
        "user_gen = GenUserProfile(\n",
        "    tmdb_metadata_path,\n",
        "    rating_train,\n",
        "    final_genome_scores,\n",
        "    df_genome_tags,\n",
        "    num_top_movies = num_top_movies,\n",
        "    num_top_tags = num_top_tags,\n",
        "    time_th = time_th,\n",
        "    api_keys = MY_GEMINI_KEYS,\n",
        "    gen_users_path = gen_users_path\n",
        ")"
      ]
    },
    {
      "cell_type": "markdown",
      "metadata": {
        "id": "phcpKtaaZwNU"
      },
      "source": [
        "**Take a double check to your desired userId to gen here**"
      ]
    },
    {
      "cell_type": "code",
      "execution_count": null,
      "metadata": {
        "colab": {
          "base_uri": "https://localhost:8080/"
        },
        "id": "Pd6tA_XgNh4C",
        "outputId": "eef51e48-e9bc-4318-82ae-49e112b0dcf0"
      },
      "outputs": [
        {
          "name": "stdout",
          "output_type": "stream",
          "text": [
            "4_th time: [4153 4154 4155 ... 5534 5535 5536] \n",
            "14_th time: [17993 17994 17995 ... 19374 19375 19376] \n",
            "24_th time: [31833 31834 31835 ... 33214 33215 33216] \n",
            "34_th time: [45673 45674 45675 ... 47054 47055 47056] \n",
            "44_th time: [59513 59514 59515 ... 60894 60895 60896] \n",
            "54_th time: [73353 73354 73355 ... 74734 74735 74736] \n",
            "64_th time: [87193 87194 87195 ... 88574 88575 88576] \n",
            "74_th time: [101033 101034 101035 ... 102414 102415 102416] \n",
            "84_th time: [114873 114874 114875 ... 116254 116255 116256] \n",
            "94_th time: [128713 128714 128715 ... 130094 130095 130096] \n"
          ]
        }
      ],
      "source": [
        "user_gen.all_userId_gen()"
      ]
    },
    {
      "cell_type": "code",
      "execution_count": null,
      "metadata": {
        "colab": {
          "base_uri": "https://localhost:8080/"
        },
        "id": "OgeCLYnF8Hyk",
        "outputId": "2fd89824-c94b-463c-e29b-1363007f9713"
      },
      "outputs": [
        {
          "data": {
            "text/plain": [
              "24"
            ]
          },
          "execution_count": 25,
          "metadata": {},
          "output_type": "execute_result"
        }
      ],
      "source": [
        "user_gen.time_th"
      ]
    },
    {
      "cell_type": "code",
      "execution_count": null,
      "metadata": {
        "colab": {
          "base_uri": "https://localhost:8080/"
        },
        "id": "mKytUVGmM_N7",
        "outputId": "99c62210-5492-40d3-c4fd-da748a020b10"
      },
      "outputs": [
        {
          "name": "stdout",
          "output_type": "stream",
          "text": [
            "[31833 31834 31835 ... 33214 33215 33216]\n",
            "1384\n"
          ]
        }
      ],
      "source": [
        "print(user_gen.split_userId_train())\n",
        "print(len(user_gen.split_userId_train()))"
      ]
    },
    {
      "cell_type": "code",
      "execution_count": null,
      "metadata": {
        "colab": {
          "base_uri": "https://localhost:8080/",
          "height": 280
        },
        "id": "uCkVqwksy7Hj",
        "outputId": "15134fa9-2e81-429d-eb55-402c1ec3005a"
      },
      "outputs": [
        {
          "name": "stderr",
          "output_type": "stream",
          "text": [
            "Building user profiles:   0%|          | 6/1384 [00:31<2:00:37,  5.25s/user]\n"
          ]
        },
        {
          "ename": "KeyboardInterrupt",
          "evalue": "",
          "output_type": "error",
          "traceback": [
            "\u001b[0;31m---------------------------------------------------------------------------\u001b[0m",
            "\u001b[0;31mKeyboardInterrupt\u001b[0m                         Traceback (most recent call last)",
            "\u001b[0;32m<ipython-input-28-a12774cc391b>\u001b[0m in \u001b[0;36m<cell line: 0>\u001b[0;34m()\u001b[0m\n\u001b[0;32m----> 1\u001b[0;31m \u001b[0muser_profiles\u001b[0m \u001b[0;34m=\u001b[0m \u001b[0muser_gen\u001b[0m\u001b[0;34m.\u001b[0m\u001b[0mbuild_user_profiles\u001b[0m\u001b[0;34m(\u001b[0m\u001b[0mnap\u001b[0m \u001b[0;34m=\u001b[0m \u001b[0;32mFalse\u001b[0m\u001b[0;34m)\u001b[0m\u001b[0;34m\u001b[0m\u001b[0;34m\u001b[0m\u001b[0m\n\u001b[0m",
            "\u001b[0;32m/content/Duong_Fast/duong_fast/notebook_helper/gen_user_profile.py\u001b[0m in \u001b[0;36mbuild_user_profiles\u001b[0;34m(self, userId_gen, nap)\u001b[0m\n\u001b[1;32m    159\u001b[0m             \u001b[0muser_id\u001b[0m\u001b[0;34m,\u001b[0m \u001b[0mprofile\u001b[0m \u001b[0;34m=\u001b[0m \u001b[0mself\u001b[0m\u001b[0;34m.\u001b[0m\u001b[0mgenerate_user_profile\u001b[0m\u001b[0;34m(\u001b[0m\u001b[0muser_id\u001b[0m\u001b[0;34m,\u001b[0m \u001b[0mcurrent_api_key\u001b[0m\u001b[0;34m,\u001b[0m \u001b[0mnap\u001b[0m \u001b[0;34m=\u001b[0m \u001b[0mnap\u001b[0m\u001b[0;34m)\u001b[0m\u001b[0;34m\u001b[0m\u001b[0;34m\u001b[0m\u001b[0m\n\u001b[1;32m    160\u001b[0m             \u001b[0muser_profiles\u001b[0m\u001b[0;34m[\u001b[0m\u001b[0muser_id\u001b[0m\u001b[0;34m]\u001b[0m \u001b[0;34m=\u001b[0m \u001b[0mprofile\u001b[0m\u001b[0;34m\u001b[0m\u001b[0;34m\u001b[0m\u001b[0m\n\u001b[0;32m--> 161\u001b[0;31m             \u001b[0mtime\u001b[0m\u001b[0;34m.\u001b[0m\u001b[0msleep\u001b[0m\u001b[0;34m(\u001b[0m\u001b[0;36m4\u001b[0m\u001b[0;34m)\u001b[0m  \u001b[0;31m# Rate limit for API calls\u001b[0m\u001b[0;34m\u001b[0m\u001b[0;34m\u001b[0m\u001b[0m\n\u001b[0m\u001b[1;32m    162\u001b[0m \u001b[0;34m\u001b[0m\u001b[0m\n\u001b[1;32m    163\u001b[0m         \u001b[0;32mreturn\u001b[0m \u001b[0muser_profiles\u001b[0m\u001b[0;34m\u001b[0m\u001b[0;34m\u001b[0m\u001b[0m\n",
            "\u001b[0;31mKeyboardInterrupt\u001b[0m: "
          ]
        }
      ],
      "source": [
        "user_profiles = user_gen.build_user_profiles(nap = False)"
      ]
    },
    {
      "cell_type": "code",
      "execution_count": null,
      "metadata": {
        "id": "BY_HbCRNzEkf"
      },
      "outputs": [],
      "source": [
        "user_gen.save_user_profiles(user_profiles)"
      ]
    },
    {
      "cell_type": "code",
      "execution_count": null,
      "metadata": {
        "id": "AE3PrWQxvxzl"
      },
      "outputs": [],
      "source": [
        "from notebook_helper import UserProfileTools\n",
        "\n",
        "user_check = UserProfileTools(user_profiles)"
      ]
    },
    {
      "cell_type": "code",
      "execution_count": null,
      "metadata": {
        "id": "m8LUQG17v_fM"
      },
      "outputs": [],
      "source": [
        "user_check.visualize_user_profile(print_out = True)"
      ]
    },
    {
      "cell_type": "code",
      "execution_count": null,
      "metadata": {
        "id": "vURLImdKwDL2"
      },
      "outputs": [],
      "source": [
        "user_check.check_user_profile()"
      ]
    },
    {
      "cell_type": "markdown",
      "metadata": {},
      "source": [
        "# Test CleanedUserProfile"
      ]
    },
    {
      "cell_type": "code",
      "execution_count": 47,
      "metadata": {},
      "outputs": [],
      "source": [
        "user_profile_path = r\"D:\\HUST\\Lab\\UserGenProfile\\user_profile_13k.json\"\n",
        "user_profile_13k = pd.read_json(user_profile_path)"
      ]
    },
    {
      "cell_type": "code",
      "execution_count": 49,
      "metadata": {},
      "outputs": [
        {
          "name": "stderr",
          "output_type": "stream",
          "text": [
            "Creating profile paragraphs: 100%|██████████| 13849/13849 [00:00<00:00, 32838.10user/s]\n"
          ]
        }
      ],
      "source": [
        "from notebook_helper import CleanedUserProfile\n",
        "\n",
        "cleaned_user_profile = CleanedUserProfile(\n",
        "    user_profile_13k\n",
        ")"
      ]
    },
    {
      "cell_type": "code",
      "execution_count": 50,
      "metadata": {},
      "outputs": [
        {
          "data": {
            "text/html": [
              "<div>\n",
              "<style scoped>\n",
              "    .dataframe tbody tr th:only-of-type {\n",
              "        vertical-align: middle;\n",
              "    }\n",
              "\n",
              "    .dataframe tbody tr th {\n",
              "        vertical-align: top;\n",
              "    }\n",
              "\n",
              "    .dataframe thead th {\n",
              "        text-align: right;\n",
              "    }\n",
              "</style>\n",
              "<table border=\"1\" class=\"dataframe\">\n",
              "  <thead>\n",
              "    <tr style=\"text-align: right;\">\n",
              "      <th></th>\n",
              "      <th>ProfileParagraph</th>\n",
              "    </tr>\n",
              "  </thead>\n",
              "  <tbody>\n",
              "    <tr>\n",
              "      <th>24</th>\n",
              "      <td>FavoriteDecade: 1990. FavoriteGenres: Comedy, ...</td>\n",
              "    </tr>\n",
              "    <tr>\n",
              "      <th>36</th>\n",
              "      <td>FavoriteDecade: 1990. FavoriteGenres: Action, ...</td>\n",
              "    </tr>\n",
              "    <tr>\n",
              "      <th>71</th>\n",
              "      <td>FavoriteDecade: 2010. FavoriteGenres: Drama, C...</td>\n",
              "    </tr>\n",
              "    <tr>\n",
              "      <th>87</th>\n",
              "      <td>FavoriteDecade: 1990. FavoriteGenres: Crime, T...</td>\n",
              "    </tr>\n",
              "    <tr>\n",
              "      <th>88</th>\n",
              "      <td>FavoriteDecade: 1990. FavoriteGenres: Drama, C...</td>\n",
              "    </tr>\n",
              "    <tr>\n",
              "      <th>...</th>\n",
              "      <td>...</td>\n",
              "    </tr>\n",
              "    <tr>\n",
              "      <th>138449</th>\n",
              "      <td>FavoriteDecade: 1980. FavoriteGenres: Action, ...</td>\n",
              "    </tr>\n",
              "    <tr>\n",
              "      <th>138472</th>\n",
              "      <td>FavoriteDecade: 1990. FavoriteGenres: Drama, C...</td>\n",
              "    </tr>\n",
              "    <tr>\n",
              "      <th>138476</th>\n",
              "      <td>FavoriteDecade: 2000. FavoriteGenres: Adventur...</td>\n",
              "    </tr>\n",
              "    <tr>\n",
              "      <th>138487</th>\n",
              "      <td>FavoriteDecade: 1990. FavoriteGenres: Drama, R...</td>\n",
              "    </tr>\n",
              "    <tr>\n",
              "      <th>138489</th>\n",
              "      <td>FavoriteDecade: 1990. FavoriteGenres: Drama, C...</td>\n",
              "    </tr>\n",
              "  </tbody>\n",
              "</table>\n",
              "<p>13849 rows × 1 columns</p>\n",
              "</div>"
            ],
            "text/plain": [
              "                                         ProfileParagraph\n",
              "24      FavoriteDecade: 1990. FavoriteGenres: Comedy, ...\n",
              "36      FavoriteDecade: 1990. FavoriteGenres: Action, ...\n",
              "71      FavoriteDecade: 2010. FavoriteGenres: Drama, C...\n",
              "87      FavoriteDecade: 1990. FavoriteGenres: Crime, T...\n",
              "88      FavoriteDecade: 1990. FavoriteGenres: Drama, C...\n",
              "...                                                   ...\n",
              "138449  FavoriteDecade: 1980. FavoriteGenres: Action, ...\n",
              "138472  FavoriteDecade: 1990. FavoriteGenres: Drama, C...\n",
              "138476  FavoriteDecade: 2000. FavoriteGenres: Adventur...\n",
              "138487  FavoriteDecade: 1990. FavoriteGenres: Drama, R...\n",
              "138489  FavoriteDecade: 1990. FavoriteGenres: Drama, C...\n",
              "\n",
              "[13849 rows x 1 columns]"
            ]
          },
          "execution_count": 50,
          "metadata": {},
          "output_type": "execute_result"
        }
      ],
      "source": [
        "cleaned_user_profile.cleaned_user_profile"
      ]
    },
    {
      "cell_type": "code",
      "execution_count": 52,
      "metadata": {},
      "outputs": [
        {
          "data": {
            "text/plain": [
              "<bound method CleanedUserProfile.print_a_profile of                                          ProfileParagraph\n",
              "24      FavoriteDecade: 1990. FavoriteGenres: Comedy, ...\n",
              "36      FavoriteDecade: 1990. FavoriteGenres: Action, ...\n",
              "71      FavoriteDecade: 2010. FavoriteGenres: Drama, C...\n",
              "87      FavoriteDecade: 1990. FavoriteGenres: Crime, T...\n",
              "88      FavoriteDecade: 1990. FavoriteGenres: Drama, C...\n",
              "...                                                   ...\n",
              "138449  FavoriteDecade: 1980. FavoriteGenres: Action, ...\n",
              "138472  FavoriteDecade: 1990. FavoriteGenres: Drama, C...\n",
              "138476  FavoriteDecade: 2000. FavoriteGenres: Adventur...\n",
              "138487  FavoriteDecade: 1990. FavoriteGenres: Drama, R...\n",
              "138489  FavoriteDecade: 1990. FavoriteGenres: Drama, C...\n",
              "\n",
              "[13849 rows x 1 columns]>"
            ]
          },
          "execution_count": 52,
          "metadata": {},
          "output_type": "execute_result"
        }
      ],
      "source": [
        "cleaned_user_profile.print_a_profile"
      ]
    },
    {
      "cell_type": "markdown",
      "metadata": {
        "id": "UlLvWbBtOi7h"
      },
      "source": [
        "# Regen Error Values from Output JSON File"
      ]
    },
    {
      "cell_type": "markdown",
      "metadata": {
        "id": "sAIOOmDIWFSF"
      },
      "source": [
        "Chỉ chạy khi gen xong một sample và muốn kiểm tra xem có những id nào bị lỗi để gen lại."
      ]
    },
    {
      "cell_type": "code",
      "execution_count": null,
      "metadata": {
        "id": "_blu6bNPP2-S"
      },
      "outputs": [],
      "source": [
        "error_json_path = \"/content/drive/MyDrive/GenUserProfile/error_json\"\n",
        "if regen_bool:\n",
        "  df = pd.read_json(error_json_path, orient='index')\n",
        "  userId_gen = GenUserProfile.detect_json_errors(df,error_json_path)"
      ]
    }
  ],
  "metadata": {
    "colab": {
      "collapsed_sections": [
        "UlLvWbBtOi7h",
        "_El8BOa-V6m9",
        "oLAuosLTE94-"
      ],
      "provenance": []
    },
    "kernelspec": {
      "display_name": "base",
      "language": "python",
      "name": "python3"
    },
    "language_info": {
      "codemirror_mode": {
        "name": "ipython",
        "version": 3
      },
      "file_extension": ".py",
      "mimetype": "text/x-python",
      "name": "python",
      "nbconvert_exporter": "python",
      "pygments_lexer": "ipython3",
      "version": "3.12.7"
    }
  },
  "nbformat": 4,
  "nbformat_minor": 0
}
